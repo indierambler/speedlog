{
 "cells": [
  {
   "cell_type": "code",
   "execution_count": 5,
   "metadata": {},
   "outputs": [],
   "source": [
    "import speedtest as st\n",
    "import pandas as pd\n",
    "from datetime import datetime\n",
    "\n",
    "def timestamp():\n",
    "    \"\"\"Get a timestamp that can be appended to a file name to make it unique\n",
    "    \"\"\"\n",
    "    return datetime.now().strftime(\"%x-%X\")\n",
    "\n",
    "\n",
    "def get_new_speeds():\n",
    "    speed_test = st.Speedtest()\n",
    "    speed_test.get_best_server()\n",
    "\n",
    "    # Get ping (miliseconds)\n",
    "    ping = speed_test.results.ping\n",
    "    # Perform download and upload speed tests (bits per second)\n",
    "    download = speed_test.download()\n",
    "    upload = speed_test.upload()\n",
    "\n",
    "    # Convert download and upload speeds to megabits per second\n",
    "    download_mbs = round(download / (10**6), 2)\n",
    "    upload_mbs = round(upload / (10**6), 2)\n",
    "\n",
    "    return (ping, download_mbs, upload_mbs)\n",
    "\n",
    "\n",
    "def update_csv(internet_speeds):\n",
    "    # Get today's date in the form Month/Day/Year\n",
    "    date_today = timestamp()\n",
    "    # File with the dataset\n",
    "    csv_file_name = \"internet_speeds_dataset.csv\"\n",
    "\n",
    "    # Load the CSV to update\n",
    "    try:\n",
    "        csv_dataset = pd.read_csv(csv_file_name, index_col=\"Date\")\n",
    "    # If there's an error, assume the file does not exist and create\\\n",
    "    # the dataset from scratch\n",
    "    except:\n",
    "        csv_dataset = pd.DataFrame(\n",
    "            list(),\n",
    "            columns=[\"Ping (ms)\", \"Download (Mb/s)\", \"Upload (Mb/s)\"]\n",
    "        )\n",
    "\n",
    "    # Create a one-row DataFrame for the new test results\n",
    "    results_df = pd.DataFrame(\n",
    "        [[ internet_speeds[0], internet_speeds[1], internet_speeds[2] ]],\n",
    "        columns=[\"Ping (ms)\", \"Download (Mb/s)\", \"Upload (Mb/s)\"],\n",
    "        index=[date_today]\n",
    "    )\n",
    "\n",
    "    updated_df = csv_dataset.append(results_df, sort=False)\n",
    "    updated_df\\\n",
    "        .loc[~updated_df.index.duplicated(keep=\"last\")]\\\n",
    "        .to_csv(csv_file_name, index_label=\"Date\")"
   ]
  },
  {
   "cell_type": "code",
   "execution_count": 6,
   "metadata": {},
   "outputs": [
    {
     "name": "stdout",
     "output_type": "stream",
     "text": [
      "(103.251, 12.85, 5.72)\n"
     ]
    }
   ],
   "source": [
    "new_speeds = get_new_speeds()\n",
    "print(new_speeds)"
   ]
  },
  {
   "cell_type": "code",
   "execution_count": 7,
   "metadata": {},
   "outputs": [],
   "source": [
    "update_csv(new_speeds)"
   ]
  }
 ],
 "metadata": {
  "kernelspec": {
   "display_name": "venv-mood",
   "language": "python",
   "name": "venv-mood"
  },
  "language_info": {
   "codemirror_mode": {
    "name": "ipython",
    "version": 3
   },
   "file_extension": ".py",
   "mimetype": "text/x-python",
   "name": "python",
   "nbconvert_exporter": "python",
   "pygments_lexer": "ipython3",
   "version": "3.9.12"
  },
  "orig_nbformat": 4
 },
 "nbformat": 4,
 "nbformat_minor": 2
}
